{
 "cells": [
  {
   "cell_type": "code",
   "execution_count": 1,
   "metadata": {},
   "outputs": [
    {
     "name": "stdout",
     "output_type": "stream",
     "text": [
      "learn Python!\n"
     ]
    }
   ],
   "source": [
    "print('learn Python!')"
   ]
  },
  {
   "cell_type": "code",
   "execution_count": 3,
   "metadata": {},
   "outputs": [
    {
     "name": "stdout",
     "output_type": "stream",
     "text": [
      "I'm 20 years old.\n"
     ]
    }
   ],
   "source": [
    "age = 20\n",
    "\n",
    "print(f\"I'm {age} years old.\")"
   ]
  },
  {
   "cell_type": "code",
   "execution_count": 4,
   "metadata": {},
   "outputs": [
    {
     "name": "stdout",
     "output_type": "stream",
     "text": [
      "I'm learning Python version 3.8\n"
     ]
    }
   ],
   "source": [
    "lang = 'Python'\n",
    "\n",
    "version = '3.8'\n",
    "\n",
    "print(f\"I'm learning {lang} version {version}\")"
   ]
  },
  {
   "cell_type": "code",
   "execution_count": 5,
   "metadata": {},
   "outputs": [
    {
     "name": "stdout",
     "output_type": "stream",
     "text": [
      "this cost's 199.99\n"
     ]
    }
   ],
   "source": [
    "price = 199.99\n",
    "\n",
    "print(\"this cost's\", price)"
   ]
  },
  {
   "cell_type": "code",
   "execution_count": 6,
   "metadata": {},
   "outputs": [
    {
     "name": "stdout",
     "output_type": "stream",
     "text": [
      "This cost's 69.99\n"
     ]
    }
   ],
   "source": [
    "price = 69.99\n",
    "\n",
    "print(f\"This cost's {price}\")"
   ]
  },
  {
   "cell_type": "code",
   "execution_count": 7,
   "metadata": {},
   "outputs": [
    {
     "name": "stdout",
     "output_type": "stream",
     "text": [
      "Price: $34.99. Weight: 20 lbs.\n"
     ]
    }
   ],
   "source": [
    "price = 34.99\n",
    "\n",
    "weight = 20\n",
    "\n",
    "print(f\"Price: ${price}. Weight: {weight} lbs.\")"
   ]
  },
  {
   "cell_type": "code",
   "execution_count": 8,
   "metadata": {},
   "outputs": [
    {
     "name": "stdout",
     "output_type": "stream",
     "text": [
      "Pi: 3.14\n"
     ]
    }
   ],
   "source": [
    "pi = 3.1415926535\n",
    "\n",
    "print(f\"Pi: {pi:.2f}\")"
   ]
  },
  {
   "cell_type": "code",
   "execution_count": 10,
   "metadata": {},
   "outputs": [
    {
     "name": "stdout",
     "output_type": "stream",
     "text": [
      "----------------------------------------\n",
      "VERSION: 1.0.1\n",
      "----------------------------------------\n"
     ]
    }
   ],
   "source": [
    "print('-' * 40)\n",
    "print('VERSION: 1.0.1')\n",
    "print('-' * 40)"
   ]
  },
  {
   "cell_type": "code",
   "execution_count": 11,
   "metadata": {},
   "outputs": [
    {
     "name": "stdout",
     "output_type": "stream",
     "text": [
      "summer#time#holiday\n"
     ]
    }
   ],
   "source": [
    "print('summer', 'time', 'holiday', sep='#')"
   ]
  },
  {
   "cell_type": "code",
   "execution_count": 12,
   "metadata": {},
   "outputs": [
    {
     "name": "stdout",
     "output_type": "stream",
     "text": [
      "Area: 78.5 in2\n"
     ]
    }
   ],
   "source": [
    "pi = 3.14\n",
    "radius = 5\n",
    "area = pi * radius ** 2\n",
    "print(f'Area: {area:.1f} in2')"
   ]
  },
  {
   "cell_type": "code",
   "execution_count": 13,
   "metadata": {},
   "outputs": [
    {
     "name": "stdout",
     "output_type": "stream",
     "text": [
      "The future value of the investment: 1159.27 USD\n"
     ]
    }
   ],
   "source": [
    "pv = 1000\n",
    "r = 0.03\n",
    "n = 5\n",
    "fv = pv * (1 + r) ** n\n",
    "print(f'The future value of the investment: {fv:.2f} USD')"
   ]
  },
  {
   "cell_type": "code",
   "execution_count": 14,
   "metadata": {},
   "outputs": [
    {
     "name": "stdout",
     "output_type": "stream",
     "text": [
      "Delta: 4\n"
     ]
    }
   ],
   "source": [
    "a = 3\n",
    "b = -4\n",
    "c = 1\n",
    "delta = b ** 2 -4 * a * c\n",
    "print(f\"Delta: {delta}\")"
   ]
  },
  {
   "cell_type": "code",
   "execution_count": 18,
   "metadata": {},
   "outputs": [
    {
     "name": "stdout",
     "output_type": "stream",
     "text": [
      "jpg\n"
     ]
    }
   ],
   "source": [
    "filename = 'view.jpg'\n",
    "\n",
    "print(filename[-3:])"
   ]
  },
  {
   "cell_type": "code",
   "execution_count": 19,
   "metadata": {},
   "outputs": [
    {
     "name": "stdout",
     "output_type": "stream",
     "text": [
      "PKVPLN\n"
     ]
    }
   ],
   "source": [
    "string = 'PKV-89415-PLN'\n",
    "\n",
    "code = string[:3] + string[-3:]\n",
    "\n",
    "print(code)"
   ]
  },
  {
   "cell_type": "code",
   "execution_count": 25,
   "metadata": {},
   "outputs": [
    {
     "name": "stdout",
     "output_type": "stream",
     "text": [
      "Number found: 37\n"
     ]
    }
   ],
   "source": [
    "string = '1 0 0 1 0 1'\n",
    "\n",
    "binary = string[::2]\n",
    "\n",
    "number = int(binary, 2)\n",
    "\n",
    "print(f'Number found: {number}')"
   ]
  },
  {
   "cell_type": "code",
   "execution_count": 26,
   "metadata": {},
   "outputs": [
    {
     "name": "stdout",
     "output_type": "stream",
     "text": [
      "esruoC nohtyP\n"
     ]
    }
   ],
   "source": [
    "text = 'Python Course'\n",
    "\n",
    "print(text[::-1])"
   ]
  },
  {
   "cell_type": "code",
   "execution_count": 28,
   "metadata": {},
   "outputs": [
    {
     "name": "stdout",
     "output_type": "stream",
     "text": [
      "<class 'NoneType'>\n",
      "\n",
      "\n",
      "<class 'bool'>\n",
      "\n",
      "\n",
      "<class 'str'>\n"
     ]
    }
   ],
   "source": [
    "var1 = None\n",
    "var2 = False\n",
    "var3 = 'True'\n",
    "\n",
    "print(type(var1))\n",
    "print('\\n')\n",
    "print(type(var2))\n",
    "print('\\n')\n",
    "print(type(var3))"
   ]
  },
  {
   "cell_type": "code",
   "execution_count": 29,
   "metadata": {},
   "outputs": [
    {
     "name": "stdout",
     "output_type": "stream",
     "text": [
      "True\n"
     ]
    }
   ],
   "source": [
    "flag = False\n",
    "\n",
    "print(isinstance(flag, bool))"
   ]
  },
  {
   "cell_type": "code",
   "execution_count": 32,
   "metadata": {},
   "outputs": [
    {
     "name": "stdout",
     "output_type": "stream",
     "text": [
      "Python is a popular programming language\n",
      "\n",
      "\n",
      "Number of occurrences: 4\n"
     ]
    }
   ],
   "source": [
    "text = 'python is a popular programming language'\n",
    "\n",
    "print(text.capitalize())\n",
    "print(\"\\n\")\n",
    "print(f\"Number of occurrences: {text.count('p')}\")"
   ]
  },
  {
   "cell_type": "code",
   "execution_count": 33,
   "metadata": {},
   "outputs": [
    {
     "name": "stdout",
     "output_type": "stream",
     "text": [
      "code1: True\n",
      "\n",
      "\n",
      "code2: True\n"
     ]
    }
   ],
   "source": [
    "code1 = \"FVNISJND-XX-2020\"\n",
    "code2 = \"FVNISJND-XY-2019\"\n",
    "\n",
    "print(f\"code1: {code1.endswith('2020')}\")\n",
    "print(\"\\n\")\n",
    "print(f\"code2: {code2.endswith('2019')}\")"
   ]
  },
  {
   "cell_type": "code",
   "execution_count": 34,
   "metadata": {},
   "outputs": [
    {
     "name": "stdout",
     "output_type": "stream",
     "text": [
      "path1: True\n",
      "\n",
      "\n",
      "path2: False\n"
     ]
    }
   ],
   "source": [
    "path1 = 'youtube.com/watch?v=5EhRztVxums'\n",
    "path2 = 'google.com/search?q=car'\n",
    "\n",
    "print(f\"path1: {path1.startswith('youtube')}\")\n",
    "print(\"\\n\")\n",
    "print(f\"path2: {path2.startswith('youtube')}\")"
   ]
  },
  {
   "cell_type": "code",
   "execution_count": 36,
   "metadata": {},
   "outputs": [
    {
     "name": "stdout",
     "output_type": "stream",
     "text": [
      "path1: 49\n",
      "\n",
      "\n",
      "path2: 49\n",
      "\n",
      "\n",
      "path3: -1\n"
     ]
    }
   ],
   "source": [
    "path1 = \"https://e-smartdata.teachable.com/p/sciezka-data-scientist-machine-learning-engineer\"\n",
    "path2 = \"https://e-smartdata.teachable.com/p/sciezka-data-scientist-deep-learning-engineer\"\n",
    "path3 = \"https://e-smartdata.teachable.com/p/sciezka-bi-analyst-data-analyst\"\n",
    "\n",
    "print(f\"path1: {path1.find('scientist')}\")\n",
    "print(\"\\n\")\n",
    "print(f\"path2: {path2.find('scientist')}\")\n",
    "print(\"\\n\")\n",
    "print(f\"path3: {path3.find('scientist')}\")"
   ]
  },
  {
   "cell_type": "code",
   "execution_count": 42,
   "metadata": {},
   "outputs": [
    {
     "name": "stdout",
     "output_type": "stream",
     "text": [
      " GOOGLE-COLAB \n",
      "\n",
      "\n",
      " google-colab \n",
      "\n",
      "\n",
      "Google-Colab\n",
      "\n",
      "\n",
      " Google Colab \n",
      "\n",
      "\n",
      " GoogleColab \n",
      "\n",
      "\n",
      "['Open', 'High', 'Low', 'Close']\n",
      "\n",
      "\n",
      "['Python is a general-purpose language.', 'Python is popular.']\n"
     ]
    }
   ],
   "source": [
    "text = ' Google-Colab '\n",
    "text2 = 'Open,High,Low,Close'\n",
    "text3 = \"\"\"Python is a general-purpose language.\n",
    "Python is popular.\"\"\"\n",
    "\n",
    "print(text.upper())\n",
    "print(\"\\n\")\n",
    "print(text.lower())\n",
    "print(\"\\n\")\n",
    "print(text.strip())\n",
    "print(\"\\n\")\n",
    "print(text.replace('-', ' '))\n",
    "print(\"\\n\")\n",
    "print(text.replace('-', ''))\n",
    "print(\"\\n\")\n",
    "print(text2.split(','))\n",
    "print(\"\\n\")\n",
    "print(text3.splitlines())"
   ]
  },
  {
   "cell_type": "code",
   "execution_count": 43,
   "metadata": {},
   "outputs": [
    {
     "name": "stdout",
     "output_type": "stream",
     "text": [
      "sciezka data scientist machine learning engineer\n"
     ]
    }
   ],
   "source": [
    "url = 'https://e-smartdata.teachable.com/p/sciezka-data-scientist-machine-learning-engineer'\n",
    "\n",
    "name = url.split('/')[-1]\n",
    "\n",
    "name = name.replace('-', ' ')\n",
    "\n",
    "print(name)"
   ]
  },
  {
   "cell_type": "code",
   "execution_count": 46,
   "metadata": {},
   "outputs": [
    {
     "name": "stdout",
     "output_type": "stream",
     "text": [
      "{'english', 'biology', 'mathematics'}\n"
     ]
    }
   ],
   "source": [
    "subjects = {'mathematics', 'biology'}\n",
    "\n",
    "subjects.add('english')\n",
    "\n",
    "print(subjects)"
   ]
  },
  {
   "cell_type": "code",
   "execution_count": 48,
   "metadata": {},
   "outputs": [
    {
     "name": "stdout",
     "output_type": "stream",
     "text": [
      "{2, 6, 8, 10}\n",
      "{'9002', '9005'}\n"
     ]
    }
   ],
   "source": [
    "A = {2,4,6,8}\n",
    "B = {4,10}\n",
    "\n",
    "sym_diff = A.symmetric_difference(B)\n",
    "print(sym_diff)\n",
    "\n",
    "is_clicked = {'9001', '9002', '9005'}\n",
    "is_bought = {'9002', '9004', '9005'}\n",
    "\n",
    "result = is_clicked.intersection(is_bought)\n",
    "\n",
    "print(result)"
   ]
  },
  {
   "cell_type": "code",
   "execution_count": 49,
   "metadata": {},
   "outputs": [
    {
     "name": "stdout",
     "output_type": "stream",
     "text": [
      "['3984', '9042', '4829', '2380', '4231', '5234', '1345', '2455']\n"
     ]
    }
   ],
   "source": [
    "day1 = ['3984','9042','4829','2380']\n",
    "day2 = ['4231','5234','1345','2455']\n",
    "\n",
    "day1.extend(day2)\n",
    "\n",
    "print(day1)"
   ]
  },
  {
   "cell_type": "code",
   "execution_count": 61,
   "metadata": {},
   "outputs": [
    {
     "name": "stdout",
     "output_type": "stream",
     "text": [
      "{'USA': 'Washington', 'Germany': 'Berlin', 'Austria': 'Vienna'}\n",
      "\n",
      "\n",
      "dict_keys(['USA', 'Germany', 'Austria'])\n",
      "\n",
      "\n",
      "dict_values(['Washington', 'Berlin', 'Vienna'])\n",
      "\n",
      "\n",
      "dict_items([('USA', 'Washington'), ('Germany', 'Berlin'), ('Austria', 'Vienna')])\n",
      "\n",
      "\n",
      "Vienna\n",
      "\n",
      "\n",
      "Berlin\n",
      "\n",
      "\n",
      "184\n",
      "\n",
      "\n",
      "{'Microsoft Corp': 190}\n",
      "dict_values([{'Microsoft Corp': 190}, {'Apple Inc': 310}, {'3M Co': 148}, {'Visa Inc': 185}])\n",
      "\n",
      "\n",
      "{0: 'AAPL.US', 1: 'AXP.US', 2: 'BA.US', 3: 'CAT.US', 4: 'CSCO.US', 5: 'CVX.US', 6: 'DIS.US', 7: 'DOW.US', 8: 'GS.US', 9: 'HD.US', 10: 'IBM.US', 11: 'INTC.US'}\n"
     ]
    }
   ],
   "source": [
    "capitals = {\n",
    "    'USA': 'Washington',\n",
    "    'Germany': 'Berlin',\n",
    "    'Austria': 'Vienna'\n",
    "}\n",
    "\n",
    "stocks = {\n",
    "    'MSFT.US': {'Microsoft Corp': 184},\n",
    "    'AAPL.US': {'Apple Inc': 310},\n",
    "    'MMM.US': {'3M Co': 148}\n",
    "}\n",
    "\n",
    "print(capitals)\n",
    "print('\\n')\n",
    "print(capitals.keys())\n",
    "print('\\n')\n",
    "print(capitals.values())\n",
    "print('\\n')\n",
    "print(capitals.items())\n",
    "print('\\n')\n",
    "print(capitals.get('Austria'))\n",
    "print('\\n')\n",
    "print(capitals.get('Germany'))\n",
    "print('\\n')\n",
    "print(stocks['MSFT.US']['Microsoft Corp'])\n",
    "print('\\n')\n",
    "\n",
    "stocks['MSFT.US']['Microsoft Corp'] = 190\n",
    "print(stocks['MSFT.US'])\n",
    "\n",
    "stocks['V.US'] = {'Visa Inc': 185}\n",
    "print(stocks.values())\n",
    "\n",
    "tickers = [\n",
    "    'AAPL.US', 'AXP.US', 'BA.US', 'CAT.US', 'CSCO.US', 'CVX.US',\n",
    "    'DIS.US', 'DOW.US', 'GS.US', 'HD.US', 'IBM.US', 'INTC.US'\n",
    "]\n",
    "\n",
    "print('\\n')\n",
    "print(dict(enumerate(tickers)))"
   ]
  },
  {
   "cell_type": "code",
   "execution_count": 62,
   "metadata": {},
   "outputs": [
    {
     "name": "stdout",
     "output_type": "stream",
     "text": [
      "{'site': 'e-smartdata.org', 'type': 'organic'}\n"
     ]
    }
   ],
   "source": [
    "stats = {\n",
    "    'site': 'e-smartdata.org', \n",
    "    'traffic': 100,\n",
    "    'type': 'organic'\n",
    "}\n",
    "\n",
    "del stats['traffic']\n",
    "print(stats)"
   ]
  },
  {
   "cell_type": "code",
   "execution_count": 69,
   "metadata": {},
   "outputs": [
    {
     "name": "stdout",
     "output_type": "stream",
     "text": [
      "['ARSUSD', 'AUDUSD']\n"
     ]
    }
   ],
   "source": [
    "with open('/Users/poromendro/Desktop/currencies.txt', 'r') as file:\n",
    "    lines = file.read().splitlines()\n",
    "    \n",
    "indexes = [index for index in lines if 'USD' in index]\n",
    "\n",
    "print(indexes)"
   ]
  },
  {
   "cell_type": "code",
   "execution_count": 74,
   "metadata": {},
   "outputs": [],
   "source": [
    "import json\n",
    "\n",
    "stocks = {\n",
    "    'PLW': ['Playway', 350],\n",
    "    'BBT': ['Boombit', 22]\n",
    "}\n",
    "\n",
    "with open('stocks.json', 'w') as file:\n",
    "    json.dump(stocks, file, indent = 4)\n",
    "\n",
    "headers = ['user_id', 'amount']\n",
    "users = [['001', '1400'], ['004', '1300'], ['007', '900']]\n",
    "\n",
    "with open('users.csv', 'w') as file:\n",
    "    file.write(','.join(headers) + '\\n')\n",
    "    for user in users:\n",
    "        file.write(','.join(user) + '\\n')"
   ]
  },
  {
   "cell_type": "code",
   "execution_count": 75,
   "metadata": {},
   "outputs": [
    {
     "name": "stdout",
     "output_type": "stream",
     "text": [
      "[('TEN', 'Ten Square Games'), ('PLW', 'Playway'), ('CDR', 'CD Projekt')]\n"
     ]
    }
   ],
   "source": [
    "ticker = ('TEN', 'PLW', 'CDR')\n",
    "full_name = ('Ten Square Games', 'Playway', 'CD Projekt')\n",
    "\n",
    "print(list(zip(ticker, full_name)))"
   ]
  },
  {
   "cell_type": "code",
   "execution_count": 76,
   "metadata": {},
   "outputs": [
    {
     "name": "stdout",
     "output_type": "stream",
     "text": [
      "[7, 6, 10]\n"
     ]
    }
   ],
   "source": [
    "stocks = ['playway', 'bombit', 'cd projekt']\n",
    "\n",
    "length = list(map(lambda stock: len(stock), stocks))\n",
    "\n",
    "print(length)"
   ]
  },
  {
   "cell_type": "code",
   "execution_count": 77,
   "metadata": {},
   "outputs": [
    {
     "name": "stdout",
     "output_type": "stream",
     "text": [
      "[{'indeks': 'sWIG80', 'name': 'BBT', 'price': 22}, {'indeks': 'mWIG40', 'name': 'TEN', 'price': 304}, {'indeks': 'mWIG40', 'name': 'PLW', 'price': 309}]\n"
     ]
    }
   ],
   "source": [
    "stocks = [\n",
    "    {'indeks': 'mWIG40', 'name': 'TEN', 'price': 304},\n",
    "    {'indeks': 'mWIG40', 'name': 'PLW', 'price': 309},\n",
    "    {'indeks': 'sWIG80', 'name': 'BBT', 'price': 22}\n",
    "]\n",
    "\n",
    "stocks.sort(key=lambda item: item['price'])\n",
    "\n",
    "print(stocks)"
   ]
  },
  {
   "cell_type": "code",
   "execution_count": 79,
   "metadata": {},
   "outputs": [
    {
     "name": "stdout",
     "output_type": "stream",
     "text": [
      "                                  2020\n",
      "\n",
      "      January                   February                   March\n",
      "Mo Tu We Th Fr Sa Su      Mo Tu We Th Fr Sa Su      Mo Tu We Th Fr Sa Su\n",
      "       1  2  3  4  5                      1  2                         1\n",
      " 6  7  8  9 10 11 12       3  4  5  6  7  8  9       2  3  4  5  6  7  8\n",
      "13 14 15 16 17 18 19      10 11 12 13 14 15 16       9 10 11 12 13 14 15\n",
      "20 21 22 23 24 25 26      17 18 19 20 21 22 23      16 17 18 19 20 21 22\n",
      "27 28 29 30 31            24 25 26 27 28 29         23 24 25 26 27 28 29\n",
      "                                                    30 31\n",
      "\n",
      "       April                      May                       June\n",
      "Mo Tu We Th Fr Sa Su      Mo Tu We Th Fr Sa Su      Mo Tu We Th Fr Sa Su\n",
      "       1  2  3  4  5                   1  2  3       1  2  3  4  5  6  7\n",
      " 6  7  8  9 10 11 12       4  5  6  7  8  9 10       8  9 10 11 12 13 14\n",
      "13 14 15 16 17 18 19      11 12 13 14 15 16 17      15 16 17 18 19 20 21\n",
      "20 21 22 23 24 25 26      18 19 20 21 22 23 24      22 23 24 25 26 27 28\n",
      "27 28 29 30               25 26 27 28 29 30 31      29 30\n",
      "\n",
      "        July                     August                  September\n",
      "Mo Tu We Th Fr Sa Su      Mo Tu We Th Fr Sa Su      Mo Tu We Th Fr Sa Su\n",
      "       1  2  3  4  5                      1  2          1  2  3  4  5  6\n",
      " 6  7  8  9 10 11 12       3  4  5  6  7  8  9       7  8  9 10 11 12 13\n",
      "13 14 15 16 17 18 19      10 11 12 13 14 15 16      14 15 16 17 18 19 20\n",
      "20 21 22 23 24 25 26      17 18 19 20 21 22 23      21 22 23 24 25 26 27\n",
      "27 28 29 30 31            24 25 26 27 28 29 30      28 29 30\n",
      "                          31\n",
      "\n",
      "      October                   November                  December\n",
      "Mo Tu We Th Fr Sa Su      Mo Tu We Th Fr Sa Su      Mo Tu We Th Fr Sa Su\n",
      "          1  2  3  4                         1          1  2  3  4  5  6\n",
      " 5  6  7  8  9 10 11       2  3  4  5  6  7  8       7  8  9 10 11 12 13\n",
      "12 13 14 15 16 17 18       9 10 11 12 13 14 15      14 15 16 17 18 19 20\n",
      "19 20 21 22 23 24 25      16 17 18 19 20 21 22      21 22 23 24 25 26 27\n",
      "26 27 28 29 30 31         23 24 25 26 27 28 29      28 29 30 31\n",
      "                          30\n",
      "\n",
      "\n",
      "\n",
      "   September 2020\n",
      "Mo Tu We Th Fr Sa Su\n",
      "    1  2  3  4  5  6\n",
      " 7  8  9 10 11 12 13\n",
      "14 15 16 17 18 19 20\n",
      "21 22 23 24 25 26 27\n",
      "28 29 30\n",
      "\n"
     ]
    }
   ],
   "source": [
    "import calendar\n",
    "\n",
    "print(calendar.calendar(2020))\n",
    "print('\\n')\n",
    "print(calendar.month(2020, 9))"
   ]
  },
  {
   "cell_type": "code",
   "execution_count": 80,
   "metadata": {},
   "outputs": [
    {
     "name": "stdout",
     "output_type": "stream",
     "text": [
      "47 days, 0:00:00\n"
     ]
    }
   ],
   "source": [
    "from datetime import date\n",
    "\n",
    "date1 = date(2020, 6, 1)\n",
    "date2 = date(2020, 7, 18)\n",
    "\n",
    "diff = date2 - date1\n",
    "\n",
    "print(diff)"
   ]
  },
  {
   "cell_type": "code",
   "execution_count": 81,
   "metadata": {},
   "outputs": [
    {
     "name": "stdout",
     "output_type": "stream",
     "text": [
      "['3', '8']\n"
     ]
    }
   ],
   "source": [
    "import re\n",
    "\n",
    "string = \"Python 3.8\"\n",
    "\n",
    "result = re.findall(pattern = r\"\\d\", string = string)\n",
    "\n",
    "print(result)"
   ]
  },
  {
   "cell_type": "code",
   "execution_count": 82,
   "metadata": {},
   "outputs": [
    {
     "name": "stdout",
     "output_type": "stream",
     "text": [
      "['Programming', 'in', 'Python', '-', 'from', 'A', 'to', 'Z']\n"
     ]
    }
   ],
   "source": [
    "import re\n",
    "\n",
    "text = \"Programming in Python - from A to Z\"\n",
    "result = re.split(pattern = r\"\\s+\", string = text)\n",
    "\n",
    "print(result)"
   ]
  },
  {
   "cell_type": "code",
   "execution_count": 83,
   "metadata": {},
   "outputs": [
    {
     "name": "stdout",
     "output_type": "stream",
     "text": [
      "abcdefghijklmnopqrstuvwxyzABCDEFGHIJKLMNOPQRSTUVWXYZ\n"
     ]
    }
   ],
   "source": [
    "import string\n",
    "\n",
    "print(string.ascii_letters)"
   ]
  },
  {
   "cell_type": "code",
   "execution_count": 84,
   "metadata": {},
   "outputs": [
    {
     "name": "stdout",
     "output_type": "stream",
     "text": [
      "Counter({'YES': 3, 'NO': 3, 'EMPTY': 1})\n"
     ]
    }
   ],
   "source": [
    "from collections import Counter\n",
    "\n",
    "counter = Counter()\n",
    "items = ['YES','NO','NO','YES','EMPTY','YES','NO']\n",
    "for item in items:\n",
    "    counter[item] += 1\n",
    "print(counter)"
   ]
  },
  {
   "cell_type": "code",
   "execution_count": 85,
   "metadata": {},
   "outputs": [],
   "source": [
    "import pickle\n",
    "\n",
    "ids = ['001', '003', '011']\n",
    "\n",
    "with open('data.pickle', 'wb') as file:\n",
    "    pickle.dump(ids, file)"
   ]
  },
  {
   "cell_type": "code",
   "execution_count": 87,
   "metadata": {},
   "outputs": [
    {
     "ename": "TypeError",
     "evalue": "file must have 'read' and 'readline' attributes",
     "output_type": "error",
     "traceback": [
      "\u001b[0;31m---------------------------------------------------------------------------\u001b[0m",
      "\u001b[0;31mTypeError\u001b[0m                                 Traceback (most recent call last)",
      "\u001b[0;32m<ipython-input-87-405ab1b39aa7>\u001b[0m in \u001b[0;36m<module>\u001b[0;34m\u001b[0m\n\u001b[0;32m----> 1\u001b[0;31m \u001b[0mpickle\u001b[0m\u001b[0;34m.\u001b[0m\u001b[0mload\u001b[0m\u001b[0;34m(\u001b[0m\u001b[0;34m'data.pickle'\u001b[0m\u001b[0;34m)\u001b[0m\u001b[0;34m\u001b[0m\u001b[0;34m\u001b[0m\u001b[0m\n\u001b[0m",
      "\u001b[0;31mTypeError\u001b[0m: file must have 'read' and 'readline' attributes"
     ]
    }
   ],
   "source": [
    "pickle.load('data.pickle')"
   ]
  },
  {
   "cell_type": "code",
   "execution_count": 88,
   "metadata": {},
   "outputs": [
    {
     "name": "stdout",
     "output_type": "stream",
     "text": [
      "{\n",
      "    \"CDR\": 329.0,\n",
      "    \"PLW\": 360.0,\n",
      "    \"TEN\": 320.0\n",
      "}\n"
     ]
    }
   ],
   "source": [
    "import json\n",
    "\n",
    "stocks = {\n",
    "    'PLW': 360.0,\n",
    "    'TEN': 320.0,\n",
    "    'CDR': 329.0\n",
    "}\n",
    "\n",
    "result = json.dumps(stocks, sort_keys=True, indent=4)\n",
    "\n",
    "print(result)"
   ]
  },
  {
   "cell_type": "code",
   "execution_count": null,
   "metadata": {},
   "outputs": [],
   "source": []
  }
 ],
 "metadata": {
  "kernelspec": {
   "display_name": "Python 3",
   "language": "python",
   "name": "python3"
  },
  "language_info": {
   "codemirror_mode": {
    "name": "ipython",
    "version": 3
   },
   "file_extension": ".py",
   "mimetype": "text/x-python",
   "name": "python",
   "nbconvert_exporter": "python",
   "pygments_lexer": "ipython3",
   "version": "3.8.3"
  }
 },
 "nbformat": 4,
 "nbformat_minor": 4
}
